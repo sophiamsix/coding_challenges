{
 "cells": [
  {
   "cell_type": "markdown",
   "metadata": {},
   "source": [
    "#### Link\n",
    "https://www.codewars.com/kata/52774a314c2333f0a7000688/train/python\n",
    "\n",
    "#### Instructions\n",
    "Write a function that takes a string of parentheses, and determines if the order of the parentheses is valid. The function should return true if the string is valid, and false if it's invalid.\n",
    "\n",
    "#### Examples\n",
    "\"()\"              =>  true\n",
    "\")(()))\"          =>  false\n",
    "\"(\"               =>  false\n",
    "\"(())((()())())\"  =>  true\n",
    "\n",
    "#### Constraints\n",
    "0 <= input.length <= 100\n",
    "\n",
    "Along with opening (() and closing ()) parenthesis, input may contain any valid ASCII characters. Furthermore, the input string may be empty and/or not contain any parentheses at all. Do not treat other forms of brackets as parentheses (e.g. [], {}, <>).\n",
    "\n",
    "#### Sample Tests\n",
    "test.assert_equals(valid_parentheses(\"  (\"),False)\n",
    "test.assert_equals(valid_parentheses(\")test\"),False)\n",
    "test.assert_equals(valid_parentheses(\"\"),True)\n",
    "test.assert_equals(valid_parentheses(\"hi())(\"),False)\n",
    "test.assert_equals(valid_parentheses(\"hi(hi)()\"),True)"
   ]
  },
  {
   "cell_type": "code",
   "execution_count": 1,
   "metadata": {},
   "outputs": [],
   "source": [
    "def valid_parentheses(string):\n",
    "    brackets = \"()\"\n",
    "    cleaned = []\n",
    "    \n",
    "    for x in string:\n",
    "        if x in brackets:\n",
    "            cleaned.append(x)\n",
    "            \n",
    "    cleaned = \"\".join(cleaned)\n",
    "    \n",
    "    while brackets in cleaned:\n",
    "        cleaned = cleaned.replace(brackets, \"\")\n",
    "    \n",
    "    if \"(\" in cleaned or \")\" in cleaned:\n",
    "        return False\n",
    "    else:\n",
    "        return True"
   ]
  },
  {
   "cell_type": "markdown",
   "metadata": {},
   "source": [
    "#### Algorithmic Complexity\n",
    "O(n)"
   ]
  },
  {
   "cell_type": "code",
   "execution_count": null,
   "metadata": {},
   "outputs": [],
   "source": []
  }
 ],
 "metadata": {
  "kernelspec": {
   "display_name": "Python 3",
   "language": "python",
   "name": "python3"
  },
  "language_info": {
   "codemirror_mode": {
    "name": "ipython",
    "version": 3
   },
   "file_extension": ".py",
   "mimetype": "text/x-python",
   "name": "python",
   "nbconvert_exporter": "python",
   "pygments_lexer": "ipython3",
   "version": "3.8.3"
  }
 },
 "nbformat": 4,
 "nbformat_minor": 4
}
