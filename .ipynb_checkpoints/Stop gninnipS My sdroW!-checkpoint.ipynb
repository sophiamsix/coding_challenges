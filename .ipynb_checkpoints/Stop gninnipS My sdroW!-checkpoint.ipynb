{
 "cells": [
  {
   "cell_type": "markdown",
   "metadata": {},
   "source": [
    "#### Link\n",
    "https://www.codewars.com/kata/5264d2b162488dc400000001/train/python\n",
    "    \n",
    "#### Instructions\n",
    "Write a function that takes in a string of one or more words, and returns the same string, but with all five or more letter words reversed (like the name of this kata).\n",
    "\n",
    "Strings passed in will consist of only letters and spaces.\n",
    "Spaces will be included only when more than one word is present.\n",
    "\n",
    "#### Examples\n",
    "```\n",
    "spinWords(\"Hey fellow warriors\") => \"Hey wollef sroirraw\" \n",
    "spinWords(\"This is a test\") => \"This is a test\" \n",
    "spinWords(\"This is another test\") => \"This is rehtona test\"\n",
    "```\n",
    "\n",
    "#### Sample Tests\n",
    "```\n",
    "test.assert_equals(spin_words(\"Welcome\"), \"emocleW\")\n",
    "```"
   ]
  },
  {
   "cell_type": "code",
   "execution_count": 9,
   "metadata": {},
   "outputs": [],
   "source": [
    "#Algorithmic Complexity: O(n)\n",
    "def spin_words(sentence):\n",
    "    return \" \".join(word if len(word) < 5 else word[::-1] for word in sentence.split())"
   ]
  },
  {
   "cell_type": "code",
   "execution_count": 10,
   "metadata": {},
   "outputs": [
    {
     "data": {
      "text/plain": [
       "'Hey wollef sroirraw this is a test'"
      ]
     },
     "execution_count": 10,
     "metadata": {},
     "output_type": "execute_result"
    }
   ],
   "source": [
    "spin_words(\"Hey fellow warriors this is a test\")"
   ]
  }
 ],
 "metadata": {
  "kernelspec": {
   "display_name": "Python 3",
   "language": "python",
   "name": "python3"
  },
  "language_info": {
   "codemirror_mode": {
    "name": "ipython",
    "version": 3
   },
   "file_extension": ".py",
   "mimetype": "text/x-python",
   "name": "python",
   "nbconvert_exporter": "python",
   "pygments_lexer": "ipython3",
   "version": "3.8.3"
  }
 },
 "nbformat": 4,
 "nbformat_minor": 4
}
